{
 "cells": [
  {
   "cell_type": "code",
   "execution_count": 1,
   "metadata": {},
   "outputs": [],
   "source": [
    "import pandas as pd\n",
    "\n",
    "dataframe = pd.read_csv(\"data_questionnaires.csv\", sep=\";\")\n",
    "\n",
    "import csv\n",
    "\n",
    "texte_file1 = open(r\"C:\\Users\\Rayan\\Desktop\\donneesproj\\data_questionnaires.csv\", \"r\", encoding = \"UTF-8\")\n",
    "texte_file2 = open(r\"C:\\Users\\Rayan\\Desktop\\donneesproj\\donnees_compactees.csv\", \"r\", encoding = \"UTF-8\")\n",
    "\n",
    "dicoframe = csv.reader(texte_file1,delimiter = \";\")\n",
    "v2dicoframe = csv.reader(texte_file2,delimiter = \";\")\n",
    "v2dicoframe_data = list(v2dicoframe)\n",
    "\n",
    "ips_voie_gt = []\n",
    "for row in dicoframe:\n",
    "    a = row[113]\n",
    "    match_found = False\n",
    "    for row_v2 in v2dicoframe_data:\n",
    "        if a == row_v2[2] and row_v2[3] != 'IPS voie GT':\n",
    "            ips_voie_gt.append(row_v2[3])\n",
    "            match_found = True\n",
    "            break\n",
    "    if not match_found and row_v2[3] != 'IPS voie GT':\n",
    "        ips_voie_gt.append(' ')\n",
    "ips_voie_gt.pop()\n",
    "\n",
    "index = []\n",
    "for i in range(0,497):\n",
    "    index.append(i)\n",
    "\n",
    "\n",
    "df = {\n",
    "    'IPS voie GT' : ips_voie_gt,\n",
    "    'Index' : index\n",
    "}\n",
    "df = pd.DataFrame(df)\n",
    "result = pd.merge(df, dataframe, on=\"Index\", how=\"left\")\n",
    "\n",
    "result.to_csv(\"compact-all.csv\", sep=\";\")"
   ]
  }
 ],
 "metadata": {
  "kernelspec": {
   "display_name": "Python 3",
   "language": "python",
   "name": "python3"
  },
  "language_info": {
   "codemirror_mode": {
    "name": "ipython",
    "version": 3
   },
   "file_extension": ".py",
   "mimetype": "text/x-python",
   "name": "python",
   "nbconvert_exporter": "python",
   "pygments_lexer": "ipython3",
   "version": "3.11.6"
  }
 },
 "nbformat": 4,
 "nbformat_minor": 2
}
