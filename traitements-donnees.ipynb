{
 "cells": [
  {
   "cell_type": "code",
   "execution_count": null,
   "metadata": {},
   "outputs": [],
   "source": [
    "import pandas as pd\n",
    "import re\n",
    "from fuzzywuzzy import fuzz\n",
    "from fuzzywuzzy import process\n",
    "\n",
    "df = pd.read_csv(\"dataquestionnairesinitial.csv\",on_bad_lines='skip')\n",
    "dataframe = df.replace({\"Oui\": 1, \"Non\": 0})"
   ]
  },
  {
   "cell_type": "code",
   "execution_count": null,
   "metadata": {},
   "outputs": [],
   "source": [
    "\n",
    "\n",
    "\n",
    "a = 0\n",
    "if a == 0 :\n",
    "    column_name0 = \"Renseignez votre parcours académique avant d’exercer dans l’éducation nationale. Plusieurs cases peuvent être sélectionnées, merci d’être le plus précis.e possible. [Autre]\"\n",
    "    dataframe = dataframe[dataframe[column_name0].isnull()]\n",
    "\n",
    "    condition2 = (dataframe[\"Enseignez-vous la spécialité histoire-géographie, géopolitique, sciences politiques ?\"] == 'Non imposé')\n",
    "    dataframe = dataframe.drop(dataframe[condition2].index)\n",
    "\n",
    "    condition3 = (dataframe[\"Enseignez-vous la spécialité histoire-géographie, géopolitique, sciences politiques ?\"] == \"Pas pour le moment mais je souhaite le faire d'ici quelques années\")\n",
    "    dataframe = dataframe.drop(dataframe[condition3].index)\n",
    "\n",
    "    condition4 = (dataframe[\"Enseignez-vous la spécialité histoire-géographie, géopolitique, sciences politiques ?\"] == 'Non, par choix')\n",
    "    dataframe = dataframe.drop(dataframe[condition4].index)\n",
    "\n",
    "    condition5 = (dataframe[\"Enseignez-vous la spécialité histoire-géographie, géopolitique, sciences politiques ?\"] == 'Autre')\n",
    "    dataframe = dataframe.drop(dataframe[condition5].index)\n",
    "\n",
    "    remplacements0 = {\"Non et je souhaite demander une formation\": 0, \"Non et je ne souhaite pas demander de formation\": 0, \"Oui, avant que je l’enseigne et je n'ai pas demandé cette formation\" : 1, \"Oui, après avoir commencé à l'enseigner et je n'ai pas demandé cette formation\" : 1, \"Oui, avant que je l’enseigne et j’ai demandé cette formation\" : 1, \"Oui, avant que je l’enseigne et je n'ai demandé cette formation\" : 1}\n",
    "    dataframe['Avez-vous reçu une formation à l’enseignement de spécialité ?'] = dataframe['Avez-vous reçu une formation à l’enseignement de spécialité ?'].replace(remplacements0)\n",
    "\n",
    "    condition7 = (dataframe[\"Avez-vous reçu une formation à l’enseignement de spécialité ?\"] == 'Autre')\n",
    "    dataframe = dataframe.drop(dataframe[condition7].index)\n",
    "    \n",
    "    condition0 = (dataframe[\"Vous vous identifiez comme : \"] == 'Je ne souhaite pas partager cette information')\n",
    "    dataframe = dataframe.drop(dataframe[condition0].index)\n",
    "\n",
    "    dataframe['Sexe_Homme'] = dataframe['Vous vous identifiez comme : '].apply(lambda x: 1 if x == 'Un homme' else 0)\n",
    "\n",
    "    dataframe['Sexe_Femme'] = dataframe['Vous vous identifiez comme : '].apply(lambda x: 1 if x == 'Une femme' else 0)\n",
    "\n",
    "    condition10 = (dataframe[\"Quelles méthodologies mettez-vous principalement en œuvre dans votre enseignement de la spécialité ?  [Autres, merci de préciser.]\"] == 'Oui')\n",
    "    dataframe = dataframe.drop(dataframe[condition10].index)\n",
    "\n",
    "    condition11= (dataframe[\"Parmi les thèmes de spécialité en classe de Première, quels sont les thèmes les plus appréciés par vos élèves ? [Je n'enseigne pas la spécialité HGGSP en classe de première.]\"] == 'Oui')\n",
    "    dataframe = dataframe.drop(dataframe[condition11].index)\n",
    "\n",
    "    condition12 = (dataframe[\"Parmi les thèmes de spécialité en Terminale, quels sont les thèmes les plus appréciés par vos élèves ? [Je n'enseigne pas la spécialité HGGSP en classe de terminale.]\"] == 'Oui')\n",
    "    dataframe = dataframe.drop(dataframe[condition12].index)\n",
    "\n",
    "    dataframe['Renseignez votre âge. '] = dataframe['Renseignez votre âge. '].str.replace(r'(\\d+)\\s*ans', r'\\1', regex=True)\n",
    "\n",
    "colonnes_a_supprimer = [0,2,3,4,5, 6, 7, 8, 10, 11, 13, 14, 15, 16, 32, 34, 35, 36, 38, 39, 40, 78, 79, 80, 81, 82, 83, 84, 85, 86, 87, 88, 89, 90, 91, 92, 98, 99, 100, 101, 102, 103, 104, 111, 112]\n",
    "dataframe = dataframe.drop(dataframe.columns[colonnes_a_supprimer], axis=1)\n",
    "dataframe.to_csv('donnees_a_filtrer2.csv', sep = \";\")\n",
    "dataframe"
   ]
  }
 ],
 "metadata": {
  "kernelspec": {
   "display_name": "Python 3",
   "language": "python",
   "name": "python3"
  },
  "language_info": {
   "codemirror_mode": {
    "name": "ipython",
    "version": 3
   },
   "file_extension": ".py",
   "mimetype": "text/x-python",
   "name": "python",
   "nbconvert_exporter": "python",
   "pygments_lexer": "ipython3",
   "version": "3.11.7"
  },
  "vscode": {
   "interpreter": {
    "hash": "5238573367df39f7286bb46f9ff5f08f63a01a80960060ce41e3c79b190280fa"
   }
  }
 },
 "nbformat": 4,
 "nbformat_minor": 2
}
