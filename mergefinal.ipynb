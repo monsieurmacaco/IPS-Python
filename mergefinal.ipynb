{
 "cells": [
  {
   "cell_type": "code",
   "execution_count": null,
   "metadata": {},
   "outputs": [],
   "source": [
    "import pandas as pd\n",
    "from fuzzywuzzy import fuzz\n",
    "from fuzzywuzzy import process\n"
   ]
  },
  {
   "cell_type": "code",
   "execution_count": null,
   "metadata": {},
   "outputs": [],
   "source": [
    "da = pd.read_csv(\"donnees_a_filtrer2.csv\",sep = \";\")\n",
    "df = pd.read_csv(\"fr-en-ips_lycees.csv\",sep = \";\")"
   ]
  },
  {
   "cell_type": "code",
   "execution_count": null,
   "metadata": {},
   "outputs": [],
   "source": [
    "da.columns.values"
   ]
  },
  {
   "cell_type": "code",
   "execution_count": null,
   "metadata": {},
   "outputs": [],
   "source": [
    "df = df.drop(df[df['Type de lycée'] == \"LP\"].index)  #Drop les lycées pro\n",
    "df = df.drop([\"Ecart-type de l'IPS voie PRO\", \"Ecart-type de l'IPS voie GT\", \"Code INSEE de la commune\", \"Secteur\"], axis = 1)\n",
    "display(df)"
   ]
  },
  {
   "cell_type": "code",
   "execution_count": null,
   "metadata": {},
   "outputs": [],
   "source": [
    "#verif manuelle pour voir si les établissements apparaissent plusieurs fois mais avec des [\"Rentrée scolaire\"] différente \n",
    "\n",
    "#for index, row in df_n.iterrows():            \n",
    "    #if row[\"UAI\"] == \"0770927P\":\n",
    "        #print(row)\n",
    "\n",
    "\n",
    "for index, row in df.iterrows():            \n",
    "    if row[\"UAI\"] == \"0772127U\":\n",
    "        print(row)\n"
   ]
  },
  {
   "cell_type": "code",
   "execution_count": null,
   "metadata": {},
   "outputs": [],
   "source": [
    "df = df.drop(df[df['Rentrée scolaire'] != \"2021-2022\"].index)\n",
    "display(df)"
   ]
  },
  {
   "cell_type": "code",
   "execution_count": null,
   "metadata": {},
   "outputs": [],
   "source": [
    "#vérification inutile à la comprehension du code\n",
    "\n",
    "for index, row in df.iterrows():            \n",
    "    if row[\"Code du département\"] == 77.0:\n",
    "        print(row)\n"
   ]
  },
  {
   "cell_type": "code",
   "execution_count": null,
   "metadata": {},
   "outputs": [],
   "source": [
    "display(df)"
   ]
  },
  {
   "cell_type": "code",
   "execution_count": null,
   "metadata": {},
   "outputs": [],
   "source": [
    "da = da.apply(lambda x: x.replace({'Académie de':'', \"Académie d'\":'', \"Académie du\":'', \"Académie\":'', \"Lycée public\":'LYCEE GENERAL PUBLIC', \"Lycée privé\":'LYCEE GENERAL PRIVE'}, regex =True))\n",
    "display(da)"
   ]
  },
  {
   "cell_type": "code",
   "execution_count": null,
   "metadata": {},
   "outputs": [],
   "source": [
    "from unidecode import unidecode\n",
    "def filtreaccent(df):\n",
    "    return unidecode.unidecode(df)"
   ]
  },
  {
   "cell_type": "code",
   "execution_count": null,
   "metadata": {},
   "outputs": [],
   "source": [
    "print(da.keys())"
   ]
  },
  {
   "cell_type": "code",
   "execution_count": null,
   "metadata": {},
   "outputs": [],
   "source": [
    "da[\"Sélectionnez l'académie dans laquelle vous exercez.\\xa0\"] = da[\"Sélectionnez l'académie dans laquelle vous exercez.\\xa0\"].str.upper()\n",
    "display(da)"
   ]
  },
  {
   "cell_type": "code",
   "execution_count": null,
   "metadata": {},
   "outputs": [],
   "source": [
    "#permet d'enlever tous les caractères après un certain caractère choisi, permet d'enlever le nom des villes ou leur code de commune\n",
    "\n",
    "#######da['Renseignez le nom de votre lycée et la ville dans laquelle il se situe.  Si vous exercez dans plusieurs établissements, merci de ne renseigner que celui dans lequel vous effectuez la majorité de votre service. '] = da['Renseignez le nom de votre lycée et la ville dans laquelle il se situe.  Si vous exercez dans plusieurs établissements, merci de ne renseigner que celui dans lequel vous effectuez la majorité de votre service. '].str.split(',').str[0]\n",
    "\n",
    "##renvoie KeyError ??\n"
   ]
  },
  {
   "cell_type": "code",
   "execution_count": 25,
   "metadata": {},
   "outputs": [
    {
     "data": {
      "text/plain": [
       "array(['Unnamed: 0', 'Date de soumission',\n",
       "       \"Sélectionnez l'académie dans laquelle vous exercez.\\xa0\",\n",
       "       \"Si vous avez obtenu un concours, précisez son année d'obtention\",\n",
       "       'Renseignez votre parcours académique avant d’exercer dans l’éducation nationale. Plusieurs cases peuvent être sélectionnées, merci d’être le plus précis.e possible. [Faculté de géographie – niveau master ou équivalent]',\n",
       "       'Renseignez votre parcours académique avant d’exercer dans l’éducation nationale. Plusieurs cases peuvent être sélectionnées, merci d’être le plus précis.e possible. [Faculté d’histoire – niveau licence ou équivalent]',\n",
       "       'Renseignez votre parcours académique avant d’exercer dans l’éducation nationale. Plusieurs cases peuvent être sélectionnées, merci d’être le plus précis.e possible. [Faculté d’histoire – niveau master ou équivalent]',\n",
       "       'Renseignez votre parcours académique avant d’exercer dans l’éducation nationale. Plusieurs cases peuvent être sélectionnées, merci d’être le plus précis.e possible. [Faculté dans une autre discipline – niveau licence ou équivalent]',\n",
       "       'Renseignez votre parcours académique avant d’exercer dans l’éducation nationale. Plusieurs cases peuvent être sélectionnées, merci d’être le plus précis.e possible. [Faculté dans une autre discipline – niveau master ou équivalent]',\n",
       "       'Renseignez votre parcours académique avant d’exercer dans l’éducation nationale. Plusieurs cases peuvent être sélectionnées, merci d’être le plus précis.e possible. [ENS]',\n",
       "       'Renseignez votre parcours académique avant d’exercer dans l’éducation nationale. Plusieurs cases peuvent être sélectionnées, merci d’être le plus précis.e possible. [IEP]',\n",
       "       'Renseignez votre parcours académique avant d’exercer dans l’éducation nationale. Plusieurs cases peuvent être sélectionnées, merci d’être le plus précis.e possible. [Doctorat en géographie]',\n",
       "       'Renseignez votre parcours académique avant d’exercer dans l’éducation nationale. Plusieurs cases peuvent être sélectionnées, merci d’être le plus précis.e possible. [Doctorat en histoire]',\n",
       "       'Renseignez votre parcours académique avant d’exercer dans l’éducation nationale. Plusieurs cases peuvent être sélectionnées, merci d’être le plus précis.e possible. [Doctorat dans une autre discipline]',\n",
       "       'Renseignez votre parcours académique avant d’exercer dans l’éducation nationale. Plusieurs cases peuvent être sélectionnées, merci d’être le plus précis.e possible. [Autre]',\n",
       "       'Vous enseignez en :', 'nomlycee',\n",
       "       'Votre établissement propose la spécialité histoire-géographie, géopolitique, sciences politiques :',\n",
       "       'Enseignez-vous la spécialité histoire-géographie, géopolitique, sciences politiques\\xa0?',\n",
       "       'Avez-vous reçu une formation à l’enseignement de spécialité\\xa0?',\n",
       "       'A ce jour, vous considérez vous comme formé.e à la géopolitique et à son enseignement ? [Oui, grâce à ma formation initiale.]',\n",
       "       'Vous enseignez la spécialité HGGSP en :',\n",
       "       \"Parmi les thèmes de la spécialité suivants, sélectionnez ceux pour lesquels vous êtes le plus à l'aise à enseigner : [Thème 1 première - Comprendre un régime politique : la démocratie]\",\n",
       "       \"Parmi les thèmes de la spécialité suivants, sélectionnez ceux pour lesquels vous êtes le plus à l'aise à enseigner : [Thème 2 première - Analyser les dynamiques des puissances internationales]\",\n",
       "       \"Parmi les thèmes de la spécialité suivants, sélectionnez ceux pour lesquels vous êtes le plus à l'aise à enseigner : [Thème 3 première - Étudier les divisions politiques du monde : les frontières]\",\n",
       "       \"Parmi les thèmes de la spécialité suivants, sélectionnez ceux pour lesquels vous êtes le plus à l'aise à enseigner : [Thème 4 première - S’informer : un regard critique sur les sources et modes de communication]\",\n",
       "       \"Parmi les thèmes de la spécialité suivants, sélectionnez ceux pour lesquels vous êtes le plus à l'aise à enseigner : [Thème 5 première - Analyser les relations entre États et religions]\",\n",
       "       \"Parmi les thèmes de la spécialité suivants, sélectionnez ceux pour lesquels vous êtes le plus à l'aise à enseigner : [Thème 1 terminale - De nouveaux espaces de conquête]\",\n",
       "       \"Parmi les thèmes de la spécialité suivants, sélectionnez ceux pour lesquels vous êtes le plus à l'aise à enseigner : [Thème 2 terminale - Faire la guerre, faire la paix : formes de conflits et modes de résolution]\",\n",
       "       \"Parmi les thèmes de la spécialité suivants, sélectionnez ceux pour lesquels vous êtes le plus à l'aise à enseigner : [Thème 3 terminale - Histoire et mémoires]\",\n",
       "       \"Parmi les thèmes de la spécialité suivants, sélectionnez ceux pour lesquels vous êtes le plus à l'aise à enseigner : [Thème 4 terminale - Identifier, protéger et valoriser le patrimoine : enjeux géopolitiques]\",\n",
       "       \"Parmi les thèmes de la spécialité suivants, sélectionnez ceux pour lesquels vous êtes le plus à l'aise à enseigner : [Thème 5 terminale - L’environnement, entre exploitation et protection : un enjeu planétaire]\",\n",
       "       \"Parmi les thèmes de la spécialité suivants, sélectionnez ceux pour lesquels vous êtes le plus à l'aise à enseigner : [Thème 6 terminale -  L’enjeu de la connaissance]\",\n",
       "       'Parmi les thèmes de la spécialité suivants, sélectionnez ceux pour lesquels vous êtes les moins à l’aise à enseigner : [Thème 1 première - Comprendre un régime politique : la démocratie]',\n",
       "       'Parmi les thèmes de la spécialité suivants, sélectionnez ceux pour lesquels vous êtes les moins à l’aise à enseigner : [Thème 2 première - Analyser les dynamiques des puissances internationales]',\n",
       "       'Parmi les thèmes de la spécialité suivants, sélectionnez ceux pour lesquels vous êtes les moins à l’aise à enseigner : [Thème 3 première - Étudier les divisions politiques du monde : les frontières]',\n",
       "       'Parmi les thèmes de la spécialité suivants, sélectionnez ceux pour lesquels vous êtes les moins à l’aise à enseigner : [Thème 4 première - S’informer : un regard critique sur les sources et modes de communication]',\n",
       "       'Parmi les thèmes de la spécialité suivants, sélectionnez ceux pour lesquels vous êtes les moins à l’aise à enseigner : [Thème 5 première - Analyser les relations entre États et religions]',\n",
       "       'Parmi les thèmes de la spécialité suivants, sélectionnez ceux pour lesquels vous êtes les moins à l’aise à enseigner : [Thème 1 terminale -  De nouveaux espaces de conquête]',\n",
       "       'Parmi les thèmes de la spécialité suivants, sélectionnez ceux pour lesquels vous êtes les moins à l’aise à enseigner : [Thème 2 terminale - Faire la guerre, faire la paix : formes de conflits et modes de résolution]',\n",
       "       'Parmi les thèmes de la spécialité suivants, sélectionnez ceux pour lesquels vous êtes les moins à l’aise à enseigner : [Thème 3 terminale -  Histoire et mémoires]',\n",
       "       'Parmi les thèmes de la spécialité suivants, sélectionnez ceux pour lesquels vous êtes les moins à l’aise à enseigner : [Thème 4 terminale - Identifier, protéger et valoriser le patrimoine : enjeux géopolitiques]',\n",
       "       'Parmi les thèmes de la spécialité suivants, sélectionnez ceux pour lesquels vous êtes les moins à l’aise à enseigner : [Thème 5 terminale - L’environnement, entre exploitation et protection : un enjeu planétaire]',\n",
       "       'Parmi les thèmes de la spécialité suivants, sélectionnez ceux pour lesquels vous êtes les moins à l’aise à enseigner : [Thème 6 terminale - L’enjeu de la connaissance]',\n",
       "       'Quelles méthodologies mettez-vous principalement en œuvre dans votre enseignement de la spécialité\\xa0?\\xa0 [Travail de recherche en autonomie]',\n",
       "       'Quelles méthodologies mettez-vous principalement en œuvre dans votre enseignement de la spécialité\\xa0?\\xa0 [Commentaire]',\n",
       "       'Quelles méthodologies mettez-vous principalement en œuvre dans votre enseignement de la spécialité\\xa0?\\xa0 [Travail de recherche en groupe]',\n",
       "       'Quelles méthodologies mettez-vous principalement en œuvre dans votre enseignement de la spécialité\\xa0?\\xa0 [Commentaire].1',\n",
       "       'Quelles méthodologies mettez-vous principalement en œuvre dans votre enseignement de la spécialité\\xa0?\\xa0 [Présentation orale individuelle]',\n",
       "       'Quelles méthodologies mettez-vous principalement en œuvre dans votre enseignement de la spécialité\\xa0?\\xa0 [Commentaire].2',\n",
       "       'Quelles méthodologies mettez-vous principalement en œuvre dans votre enseignement de la spécialité\\xa0?\\xa0 [Présentation orale en groupe]',\n",
       "       'Quelles méthodologies mettez-vous principalement en œuvre dans votre enseignement de la spécialité\\xa0?\\xa0 [Commentaire].3',\n",
       "       'Quelles méthodologies mettez-vous principalement en œuvre dans votre enseignement de la spécialité\\xa0?\\xa0 [Cours magistral]',\n",
       "       'Quelles méthodologies mettez-vous principalement en œuvre dans votre enseignement de la spécialité\\xa0?\\xa0 [Commentaire].4',\n",
       "       'Quelles méthodologies mettez-vous principalement en œuvre dans votre enseignement de la spécialité\\xa0?\\xa0 [Autres, merci de préciser.]',\n",
       "       'Quelles méthodologies mettez-vous principalement en œuvre dans votre enseignement de la spécialité\\xa0?\\xa0 [Commentaire].5',\n",
       "       'Décrivez les côtés positifs de cet enseignement.\\xa0',\n",
       "       'Décrivez les côtés négatifs de cet enseignement.',\n",
       "       'Parmi les thèmes de spécialité en classe de Première, quels sont les thèmes les plus appréciés par vos élèves\\xa0? [Thème 5 première - Analyser les relations entre États et religions]',\n",
       "       \"Parmi les thèmes de spécialité en classe de Première, quels sont les thèmes les plus appréciés par vos élèves\\xa0? [Je n'enseigne pas la spécialité HGGSP en classe de première.]\",\n",
       "       'Renseignez le pourcentage d’élèves ayant conservé la spécialité HGGSP en classe de Terminale dans votre établissement.',\n",
       "       'Selon vous, qu’est ce qui conduit vos élèves à conserver la spécialité HGGSP en Terminale ?\\xa0 [Un intérêt poussé pour la spécialité HGGSP.]',\n",
       "       'Selon vous, qu’est ce qui conduit vos élèves à conserver la spécialité HGGSP en Terminale ?\\xa0 [La volonté de continuer à développer leur culture générale.]',\n",
       "       'Parmi les thèmes de spécialité en Terminale, quels sont les thèmes les plus appréciés par vos élèves\\xa0? [Thème 5 terminale - L’environnement, entre exploitation et protection : un enjeu planétaire]',\n",
       "       'Parmi les thèmes de spécialité en Terminale, quels sont les thèmes les plus appréciés par vos élèves\\xa0? [Thème 6 terminale - L’enjeu de la connaissance]',\n",
       "       \"Parmi les thèmes de spécialité en Terminale, quels sont les thèmes les plus appréciés par vos élèves\\xa0? [Je n'enseigne pas la spécialité HGGSP en classe de terminale.]\",\n",
       "       'Souhaitez-vous être tenu informé.e des résultats de cette enquête ?\\xa0',\n",
       "       \"Souhaitez-vous participer à un entretien individuel sur cette thématique ?\\xa0  Vos impressions, vécus et retours sur l'enseignement de la géopolitique me sont essentiels pour avancer plus aisément dans mes recherches. N'hésitez pas à participer !\",\n",
       "       'Pour que je puisse vous tenir informé.e des résultats de mes recherches et/ou pour que je puisse vous contatcer pour organiser un entretien, merci de renseigner votre adresse mail.'],\n",
       "      dtype=object)"
      ]
     },
     "execution_count": 25,
     "metadata": {},
     "output_type": "execute_result"
    }
   ],
   "source": [
    "da.rename(\n",
    "    columns={\"Renseignez le nom de votre lycée\\xa0et la ville dans laquelle il se situe.  Si vous exercez dans plusieurs établissements, merci de ne renseigner que celui dans lequel vous effectuez la majorité de votre service.\\xa0\": \"nomlycee\"},\n",
    "    inplace=True,\n",
    ")\n",
    "da.columns.values"
   ]
  },
  {
   "cell_type": "markdown",
   "metadata": {},
   "source": [
    "Split avec pandas\n",
    "\n",
    "df['nom dataframe'].str.split('machin bidule à split', expand = True)"
   ]
  },
  {
   "cell_type": "code",
   "execution_count": 32,
   "metadata": {},
   "outputs": [
    {
     "data": {
      "text/plain": [
       "0                Lycée Michel-Ange Villeneuve la Garenne\n",
       "1                                       Lycée de Baudre \n",
       "2                                          Lycée Diderot\n",
       "3                                lycée Jean Jaurès Reims\n",
       "4                                      Lycée Jean-Monnet\n",
       "                             ...                        \n",
       "300                      Lycée Van der Meersch \\nRoubaix\n",
       "301                                Lycée du Val D'Argens\n",
       "302                         Lycée Guillaume Apollinaire \n",
       "303                                                  NaN\n",
       "304    Lycée Alain Borne - Montélimar\\nLycée Roumanil...\n",
       "Name: nomlycee, Length: 305, dtype: object"
      ]
     },
     "metadata": {},
     "output_type": "display_data"
    }
   ],
   "source": [
    "da['nomlycee'] = da['nomlycee'].str.split(',').str[0]\n",
    "da['nomlycee'] = da['nomlycee'].str.split('/').str[0]\n",
    "da['nomlycee'] = da['nomlycee'].str.split('à').str[0]\n",
    "da['nomlycee'] = da['nomlycee'].str.split('(').str[0]\n",
    "display(da['nomlycee'])"
   ]
  },
  {
   "cell_type": "code",
   "execution_count": null,
   "metadata": {},
   "outputs": [],
   "source": [
    "##for index, row in da.iterrows():            \n",
    "    ##if row[\"nomlycee\"].count('-') >= 2:\n",
    "        ##row[\"nomlycee\"].str.split('machin bidule à split',n= 2, expand = True)\n",
    "    ##else:\n",
    "        ##row[\"nomlycee\"].str.split('machin bidule à split',n=1 expand = True)"
   ]
  }
 ],
 "metadata": {
  "kernelspec": {
   "display_name": "Python 3",
   "language": "python",
   "name": "python3"
  },
  "language_info": {
   "codemirror_mode": {
    "name": "ipython",
    "version": 3
   },
   "file_extension": ".py",
   "mimetype": "text/x-python",
   "name": "python",
   "nbconvert_exporter": "python",
   "pygments_lexer": "ipython3",
   "version": "3.11.7"
  }
 },
 "nbformat": 4,
 "nbformat_minor": 2
}
