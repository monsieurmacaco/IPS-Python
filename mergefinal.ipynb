{
 "cells": [
  {
   "cell_type": "code",
   "execution_count": null,
   "metadata": {},
   "outputs": [],
   "source": [
    "import pandas as pd\n",
    "from fuzzywuzzy import fuzz\n",
    "from fuzzywuzzy import process\n"
   ]
  },
  {
   "cell_type": "code",
   "execution_count": null,
   "metadata": {},
   "outputs": [],
   "source": [
    "da = pd.read_csv(\"donnees_a_filtrer2.csv\",sep = \";\")\n",
    "df = pd.read_csv(\"fr-en-ips_lycees.csv\",sep = \";\")"
   ]
  },
  {
   "cell_type": "code",
   "execution_count": null,
   "metadata": {},
   "outputs": [],
   "source": [
    "da.columns.values"
   ]
  },
  {
   "cell_type": "code",
   "execution_count": null,
   "metadata": {},
   "outputs": [],
   "source": [
    "df = df.drop(df[df['Type de lycée'] == \"LP\"].index)  #Drop les lycées pro\n",
    "df = df.drop([\"Ecart-type de l'IPS voie PRO\", \"Ecart-type de l'IPS voie GT\", \"Code INSEE de la commune\", \"Secteur\"], axis = 1)\n",
    "display(df)"
   ]
  },
  {
   "cell_type": "code",
   "execution_count": null,
   "metadata": {},
   "outputs": [],
   "source": [
    "#verif manuelle pour voir si les établissements apparaissent plusieurs fois mais avec des [\"Rentrée scolaire\"] différente \n",
    "\n",
    "#for index, row in df_n.iterrows():            \n",
    "    #if row[\"UAI\"] == \"0770927P\":\n",
    "        #print(row)\n",
    "\n",
    "\n",
    "for index, row in df.iterrows():            \n",
    "    if row[\"UAI\"] == \"0772127U\":\n",
    "        print(row)\n"
   ]
  },
  {
   "cell_type": "code",
   "execution_count": null,
   "metadata": {},
   "outputs": [],
   "source": [
    "df = df.drop(df[df['Rentrée scolaire'] != \"2021-2022\"].index)\n",
    "display(df)"
   ]
  },
  {
   "cell_type": "code",
   "execution_count": null,
   "metadata": {},
   "outputs": [],
   "source": [
    "#vérification inutile à la comprehension du code\n",
    "\n",
    "for index, row in df.iterrows():            \n",
    "    if row[\"Code du département\"] == 77.0:\n",
    "        print(row)\n"
   ]
  },
  {
   "cell_type": "code",
   "execution_count": null,
   "metadata": {},
   "outputs": [],
   "source": [
    "display(df)"
   ]
  },
  {
   "cell_type": "code",
   "execution_count": null,
   "metadata": {},
   "outputs": [],
   "source": [
    "da = da.apply(lambda x: x.replace({'Académie de':'', \"Académie d'\":'', \"Académie du\":'', \"Académie\":'', \"Lycée public\":'LYCEE GENERAL PUBLIC', \"Lycée privé\":'LYCEE GENERAL PRIVE'}, regex =True))\n",
    "display(da)"
   ]
  },
  {
   "cell_type": "code",
   "execution_count": null,
   "metadata": {},
   "outputs": [],
   "source": [
    "from unidecode import unidecode\n",
    "def filtreaccent(df):\n",
    "    return unidecode.unidecode(df)"
   ]
  },
  {
   "cell_type": "code",
   "execution_count": null,
   "metadata": {},
   "outputs": [],
   "source": [
    "print(da.keys())"
   ]
  },
  {
   "cell_type": "code",
   "execution_count": null,
   "metadata": {},
   "outputs": [],
   "source": [
    "da[\"Sélectionnez l'académie dans laquelle vous exercez.\\xa0\"] = da[\"Sélectionnez l'académie dans laquelle vous exercez.\\xa0\"].str.upper()\n",
    "display(da)"
   ]
  },
  {
   "cell_type": "code",
   "execution_count": null,
   "metadata": {},
   "outputs": [],
   "source": [
    "#permet d'enlever tous les caractères après un certain caractère choisi, permet d'enlever le nom des villes ou leur code de commune\n",
    "\n",
    "#######da['Renseignez le nom de votre lycée et la ville dans laquelle il se situe.  Si vous exercez dans plusieurs établissements, merci de ne renseigner que celui dans lequel vous effectuez la majorité de votre service. '] = da['Renseignez le nom de votre lycée et la ville dans laquelle il se situe.  Si vous exercez dans plusieurs établissements, merci de ne renseigner que celui dans lequel vous effectuez la majorité de votre service. '].str.split(',').str[0]\n",
    "\n",
    "##renvoie KeyError ??\n"
   ]
  },
  {
   "cell_type": "code",
   "execution_count": null,
   "metadata": {},
   "outputs": [],
   "source": [
    "da.rename(\n",
    "    columns={\"Renseignez le nom de votre lycée\\xa0et la ville dans laquelle il se situe.  Si vous exercez dans plusieurs établissements, merci de ne renseigner que celui dans lequel vous effectuez la majorité de votre service.\\xa0\": \"nomlycee\"},\n",
    "    inplace=True,\n",
    ")\n",
    "da.columns.values"
   ]
  },
  {
   "cell_type": "markdown",
   "metadata": {},
   "source": [
    "Split avec pandas\n",
    "\n",
    "df['nom dataframe'].str.split('machin bidule à split', expand = True)"
   ]
  },
  {
   "cell_type": "code",
   "execution_count": null,
   "metadata": {},
   "outputs": [],
   "source": [
    "da['nomlycee'] = da['nomlycee'].str.split(',').str[0]\n",
    "da['nomlycee'] = da['nomlycee'].str.split('/').str[0]\n",
    "da['nomlycee'] = da['nomlycee'].str.split('à').str[0]\n",
    "da['nomlycee'] = da['nomlycee'].str.split('(').str[0]\n",
    "display(da['nomlycee'])"
   ]
  },
  {
   "cell_type": "code",
   "execution_count": null,
   "metadata": {},
   "outputs": [],
   "source": [
    "##for index, row in da.iterrows():            \n",
    "    ##if row[\"nomlycee\"].count('-') >= 2:\n",
    "        ##row[\"nomlycee\"].str.split('machin bidule à split',n= 2, expand = True)\n",
    "    ##else:\n",
    "        ##row[\"nomlycee\"].str.split('machin bidule à split',n=1 expand = True)"
   ]
  }
 ],
 "metadata": {
  "kernelspec": {
   "display_name": "Python 3",
   "language": "python",
   "name": "python3"
  },
  "language_info": {
   "codemirror_mode": {
    "name": "ipython",
    "version": 3
   },
   "file_extension": ".py",
   "mimetype": "text/x-python",
   "name": "python",
   "nbconvert_exporter": "python",
   "pygments_lexer": "ipython3",
   "version": "3.11.7"
  }
 },
 "nbformat": 4,
 "nbformat_minor": 2
}
