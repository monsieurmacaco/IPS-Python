{
 "cells": [
  {
   "cell_type": "code",
   "execution_count": null,
   "metadata": {},
   "outputs": [],
   "source": [
    "import pandas as pd\n",
    "from fuzzywuzzy import fuzz\n",
    "from fuzzywuzzy import process\n"
   ]
  },
  {
   "cell_type": "code",
   "execution_count": null,
   "metadata": {},
   "outputs": [],
   "source": [
    "da = pd.read_csv(\"donnees_a_filtrer2.csv\",sep = \";\")\n",
    "df = pd.read_csv(\"fr-en-ips_lycees.csv\",sep = \";\")"
   ]
  },
  {
   "cell_type": "code",
   "execution_count": null,
   "metadata": {},
   "outputs": [],
   "source": [
    "da.columns.values"
   ]
  },
  {
   "cell_type": "code",
   "execution_count": null,
   "metadata": {},
   "outputs": [],
   "source": [
    "df = df.drop(df[df['Type de lycée'] == \"LP\"].index)  #Drop les lycées pro\n",
    "df = df.drop([\"Ecart-type de l'IPS voie PRO\", \"Ecart-type de l'IPS voie GT\", \"Code INSEE de la commune\", \"Secteur\"], axis = 1)\n",
    "display(df)"
   ]
  },
  {
   "cell_type": "code",
   "execution_count": null,
   "metadata": {},
   "outputs": [],
   "source": [
    "#verif manuelle pour voir si les établissements apparaissent plusieurs fois mais avec des [\"Rentrée scolaire\"] différente \n",
    "\n",
    "#for index, row in df_n.iterrows():            \n",
    "    #if row[\"UAI\"] == \"0770927P\":\n",
    "        #print(row)\n",
    "\n",
    "\n",
    "for index, row in df.iterrows():            \n",
    "    if row[\"UAI\"] == \"0772127U\":\n",
    "        print(row)\n"
   ]
  },
  {
   "cell_type": "code",
   "execution_count": null,
   "metadata": {},
   "outputs": [],
   "source": [
    "df = df.drop(df[df['Rentrée scolaire'] != \"2021-2022\"].index)\n",
    "display(df)"
   ]
  },
  {
   "cell_type": "code",
   "execution_count": null,
   "metadata": {},
   "outputs": [],
   "source": [
    "#vérification inutile à la comprehension du code\n",
    "\n",
    "for index, row in df.iterrows():            \n",
    "    if row[\"Code du département\"] == 77.0:\n",
    "        print(row)\n"
   ]
  },
  {
   "cell_type": "code",
   "execution_count": null,
   "metadata": {},
   "outputs": [],
   "source": [
    "display(df)"
   ]
  },
  {
   "cell_type": "code",
   "execution_count": null,
   "metadata": {},
   "outputs": [],
   "source": [
    "da = da.apply(lambda x: x.replace({'Académie de':'', \"Académie d'\":'', \"Académie du\":'', \"Académie\":'', \"Lycée public\":'LYCEE GENERAL PUBLIC', \"Lycée privé\":'LYCEE GENERAL PRIVE'}, regex =True))\n",
    "display(da)"
   ]
  },
  {
   "cell_type": "code",
   "execution_count": null,
   "metadata": {},
   "outputs": [],
   "source": [
    "from unidecode import unidecode\n",
    "def filtreaccent(df):\n",
    "    return unidecode.unidecode(df)"
   ]
  },
  {
   "cell_type": "code",
   "execution_count": null,
   "metadata": {},
   "outputs": [],
   "source": [
    "print(da.keys())"
   ]
  },
  {
   "cell_type": "code",
   "execution_count": null,
   "metadata": {},
   "outputs": [],
   "source": [
    "da[\"Sélectionnez l'académie dans laquelle vous exercez.\\xa0\"] = da[\"Sélectionnez l'académie dans laquelle vous exercez.\\xa0\"].str.upper()\n",
    "display(da)"
   ]
  },
  {
   "cell_type": "code",
   "execution_count": null,
   "metadata": {},
   "outputs": [],
   "source": [
    "#permet d'enlever tous les caractères après un certain caractère choisi, permet d'enlever le nom des villes ou leur code de commune\n",
    "\n",
    "#######da['Renseignez le nom de votre lycée et la ville dans laquelle il se situe.  Si vous exercez dans plusieurs établissements, merci de ne renseigner que celui dans lequel vous effectuez la majorité de votre service. '] = da['Renseignez le nom de votre lycée et la ville dans laquelle il se situe.  Si vous exercez dans plusieurs établissements, merci de ne renseigner que celui dans lequel vous effectuez la majorité de votre service. '].str.split(',').str[0]\n",
    "\n",
    "##renvoie KeyError ??\n"
   ]
  },
  {
   "cell_type": "code",
   "execution_count": null,
   "metadata": {},
   "outputs": [],
   "source": [
    "da.rename(\n",
    "    columns={\"Renseignez le nom de votre lycée\\xa0et la ville dans laquelle il se situe.  Si vous exercez dans plusieurs établissements, merci de ne renseigner que celui dans lequel vous effectuez la majorité de votre service.\\xa0\": \"nomlycee\"},\n",
    "    inplace=True,\n",
    ")\n",
    "da.columns.values"
   ]
  },
  {
   "cell_type": "markdown",
   "metadata": {},
   "source": [
    "Split avec pandas\n",
    "\n",
    "df['nom dataframe'].str.split('machin bidule à split', expand = True)"
   ]
  },
  {
   "cell_type": "code",
   "execution_count": null,
   "metadata": {},
   "outputs": [],
   "source": [
    "pd.set_option('display.max_colwidth', None)\n",
    "pd.set_option('display.max_rows', None)\n"
   ]
  },
  {
   "cell_type": "code",
   "execution_count": null,
   "metadata": {},
   "outputs": [],
   "source": [
    "da['nomlycee'] = da['nomlycee'].str.split(',').str[0]\n",
    "da['nomlycee'] = da['nomlycee'].str.split('/').str[0]\n",
    "da['nomlycee'] = da['nomlycee'].str.split('\\n').str[0]\n",
    "da['nomlycee'] = da['nomlycee'].str.split('à').str[0]\n",
    "da['nomlycee'] = da['nomlycee'].str.split('(').str[0]\n",
    "for i in range(0,9):\n",
    "        da['nomlycee'] = da['nomlycee'].str.split(str(i)).str[0]\n",
    "#da['nomlycee'] = da['nomlycee'].str.split(int).str[0]\n",
    "display(da['nomlycee'])"
   ]
  },
  {
   "cell_type": "code",
   "execution_count": null,
   "metadata": {},
   "outputs": [],
   "source": [
    "##for index, row in da.iterrows():            \n",
    "    ##if row[\"nomlycee\"].count('-') >= 2:\n",
    "        ##row[\"nomlycee\"].str.split('machin bidule à split',n= 2, expand = True)\n",
    "    ##else:\n",
    "        ##row[\"nomlycee\"].str.split('machin bidule à split',n=1 expand = True)"
   ]
  },
  {
   "cell_type": "code",
   "execution_count": 43,
   "metadata": {},
   "outputs": [
    {
     "name": "stdout",
     "output_type": "stream",
     "text": [
      "Index(['1,01,ozan,OZAN,ozan,Ozan,O250,OSN,01190,284,01284,2,26,6,618,469,500,93,6.6,4.91667,46.3833,2866,51546,+45456,462330,170,205'], dtype='object')\n"
     ]
    }
   ],
   "source": [
    "dv = pd.read_csv(\"villes_france.csv\",sep = \";\")\n",
    "#dv.rename(columns={dv.columns[2]: '0zan'},inplace=True)\n",
    "print(dv.keys())"
   ]
  },
  {
   "cell_type": "code",
   "execution_count": 45,
   "metadata": {},
   "outputs": [
    {
     "ename": "IndexError",
     "evalue": "only integers, slices (`:`), ellipsis (`...`), numpy.newaxis (`None`) and integer or boolean arrays are valid indices",
     "output_type": "error",
     "traceback": [
      "\u001b[1;31m---------------------------------------------------------------------------\u001b[0m",
      "\u001b[1;31mIndexError\u001b[0m                                Traceback (most recent call last)",
      "\u001b[1;32mc:\\Users\\Rayan\\Desktop\\donneesproj\\mergefinal.ipynb Cell 20\u001b[0m line \u001b[0;36m1\n\u001b[1;32m----> <a href='vscode-notebook-cell:/c%3A/Users/Rayan/Desktop/donneesproj/mergefinal.ipynb#X26sZmlsZQ%3D%3D?line=0'>1</a>\u001b[0m dv\u001b[39m.\u001b[39;49mcolumns[\u001b[39m\"\u001b[39;49m\u001b[39mnum\u001b[39;49m\u001b[39m\"\u001b[39;49m, \u001b[39m\"\u001b[39;49m\u001b[39mnum2\u001b[39;49m\u001b[39m\"\u001b[39;49m, \u001b[39m\"\u001b[39;49m\u001b[39mnom1\u001b[39;49m\u001b[39m\"\u001b[39;49m, \u001b[39m\"\u001b[39;49m\u001b[39mnom2\u001b[39;49m\u001b[39m\"\u001b[39;49m, \u001b[39m\"\u001b[39;49m\u001b[39mnom3\u001b[39;49m\u001b[39m\"\u001b[39;49m, \u001b[39m\"\u001b[39;49m\u001b[39mnom4\u001b[39;49m\u001b[39m\"\u001b[39;49m]\n",
      "File \u001b[1;32m~\\AppData\\Local\\Packages\\PythonSoftwareFoundation.Python.3.11_qbz5n2kfra8p0\\LocalCache\\local-packages\\Python311\\site-packages\\pandas\\core\\indexes\\base.py:5382\u001b[0m, in \u001b[0;36mIndex.__getitem__\u001b[1;34m(self, key)\u001b[0m\n\u001b[0;32m   5379\u001b[0m     \u001b[39melse\u001b[39;00m:\n\u001b[0;32m   5380\u001b[0m         key \u001b[39m=\u001b[39m np\u001b[39m.\u001b[39masarray(key, dtype\u001b[39m=\u001b[39m\u001b[39mbool\u001b[39m)\n\u001b[1;32m-> 5382\u001b[0m result \u001b[39m=\u001b[39m getitem(key)\n\u001b[0;32m   5383\u001b[0m \u001b[39m# Because we ruled out integer above, we always get an arraylike here\u001b[39;00m\n\u001b[0;32m   5384\u001b[0m \u001b[39mif\u001b[39;00m result\u001b[39m.\u001b[39mndim \u001b[39m>\u001b[39m \u001b[39m1\u001b[39m:\n",
      "\u001b[1;31mIndexError\u001b[0m: only integers, slices (`:`), ellipsis (`...`), numpy.newaxis (`None`) and integer or boolean arrays are valid indices"
     ]
    }
   ],
   "source": [
    "\n",
    "\n",
    "\n"
   ]
  }
 ],
 "metadata": {
  "kernelspec": {
   "display_name": "Python 3",
   "language": "python",
   "name": "python3"
  },
  "language_info": {
   "codemirror_mode": {
    "name": "ipython",
    "version": 3
   },
   "file_extension": ".py",
   "mimetype": "text/x-python",
   "name": "python",
   "nbconvert_exporter": "python",
   "pygments_lexer": "ipython3",
   "version": "3.11.7"
  }
 },
 "nbformat": 4,
 "nbformat_minor": 2
}
